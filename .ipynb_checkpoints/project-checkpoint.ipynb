{
 "cells": [
  {
   "cell_type": "code",
   "execution_count": 1,
   "id": "c601c5d0",
   "metadata": {},
   "outputs": [],
   "source": [
    "# pip install scikit-learn\n",
    "import csv\n",
    "import random\n",
    "\n",
    "from sklearn import svm\n",
    "from sklearn.linear_model import Perceptron\n",
    "from sklearn.naive_bayes import GaussianNB\n",
    "from sklearn.neighbors import KNeighborsClassifier"
   ]
  },
  {
   "cell_type": "code",
   "execution_count": 2,
   "id": "077c275d",
   "metadata": {},
   "outputs": [],
   "source": [
    "# Read data in from file\n",
    "with open(\"banknotes.csv\") as f:\n",
    "    reader = csv.reader(f)\n",
    "    next(reader)\n",
    "\n",
    "    data = []\n",
    "    for row in reader:\n",
    "        data.append({\n",
    "            \"evidence\": [float(cell) for cell in row[:4]],\n",
    "            \"label\": \"Authentic\" if row[4] == \"0\" else \"Counterfeit\"\n",
    "        })"
   ]
  },
  {
   "cell_type": "code",
   "execution_count": 3,
   "id": "de5c8692",
   "metadata": {},
   "outputs": [],
   "source": [
    "# Separate data into training and testing groups\n",
    "holdout = int(0.40 * len(data))\n",
    "random.shuffle(data)\n",
    "testing = data[:holdout]\n",
    "training = data[holdout:]"
   ]
  },
  {
   "cell_type": "code",
   "execution_count": 4,
   "id": "90b35c13",
   "metadata": {},
   "outputs": [],
   "source": [
    "# Model creation\n",
    "model1 = Perceptron()\n",
    "model2 = svm.SVC()\n",
    "model3 = KNeighborsClassifier(n_neighbors=1)\n",
    "model4 = GaussianNB()"
   ]
  },
  {
   "cell_type": "code",
   "execution_count": 5,
   "id": "f761a650",
   "metadata": {},
   "outputs": [
    {
     "data": {
      "text/plain": [
       "GaussianNB()"
      ]
     },
     "execution_count": 5,
     "metadata": {},
     "output_type": "execute_result"
    }
   ],
   "source": [
    "# Train model on training set\n",
    "X_training = [row[\"evidence\"] for row in training]\n",
    "y_training = [row[\"label\"] for row in training]\n",
    "model1.fit(X_training, y_training)\n",
    "model2.fit(X_training, y_training)\n",
    "model3.fit(X_training, y_training)\n",
    "model4.fit(X_training, y_training)"
   ]
  },
  {
   "cell_type": "code",
   "execution_count": 6,
   "id": "b9374a48",
   "metadata": {},
   "outputs": [],
   "source": [
    "# Make predictions on the testing set\n",
    "X_testing = [row[\"evidence\"] for row in testing]\n",
    "y_testing = [row[\"label\"] for row in testing]\n",
    "predictions1 = model1.predict(X_testing)\n",
    "predictions2 = model2.predict(X_testing)\n",
    "predictions3 = model3.predict(X_testing)\n",
    "predictions4 = model4.predict(X_testing)"
   ]
  },
  {
   "cell_type": "code",
   "execution_count": 7,
   "id": "9bcd7068",
   "metadata": {},
   "outputs": [
    {
     "name": "stdout",
     "output_type": "stream",
     "text": [
      "Results for model Perceptron\n",
      "Correct: 537\n",
      "Incorrect: 11\n",
      "Accuracy: 97.99%\n"
     ]
    }
   ],
   "source": [
    "# Compute how well we performed for perceptron\n",
    "correct1 = 0\n",
    "incorrect1 = 0\n",
    "total1 = 0\n",
    "for actual, predicted in zip(y_testing, predictions1):\n",
    "    total1 += 1\n",
    "    if actual == predicted:\n",
    "        correct1 += 1\n",
    "    else:\n",
    "        incorrect1 += 1\n",
    "\n",
    "# Print results\n",
    "print(f\"Results for model {type(model1).__name__}\")\n",
    "print(f\"Correct: {correct1}\")\n",
    "print(f\"Incorrect: {incorrect1}\")\n",
    "print(f\"Accuracy: {100 * correct1 / total1:.2f}%\")"
   ]
  },
  {
   "cell_type": "code",
   "execution_count": 8,
   "id": "ee88fdfe",
   "metadata": {},
   "outputs": [
    {
     "name": "stdout",
     "output_type": "stream",
     "text": [
      "Results for model SVC\n",
      "Correct: 544\n",
      "Incorrect: 4\n",
      "Accuracy: 99.27%\n"
     ]
    }
   ],
   "source": [
    "# Compute how well we performed for SVM\n",
    "correct2 = 0\n",
    "incorrect2 = 0\n",
    "total2 = 0\n",
    "for actual, predicted in zip(y_testing, predictions2):\n",
    "    total2 += 1\n",
    "    if actual == predicted:\n",
    "        correct2 += 1\n",
    "    else:\n",
    "        incorrect2 += 1\n",
    "\n",
    "# Print results\n",
    "print(f\"Results for model {type(model2).__name__}\")\n",
    "print(f\"Correct: {correct2}\")\n",
    "print(f\"Incorrect: {incorrect2}\")\n",
    "print(f\"Accuracy: {100 * correct2 / total2:.2f}%\")"
   ]
  },
  {
   "cell_type": "code",
   "execution_count": 9,
   "id": "cfb59ae7",
   "metadata": {},
   "outputs": [
    {
     "name": "stdout",
     "output_type": "stream",
     "text": [
      "Results for model KNeighborsClassifier\n",
      "Correct: 548\n",
      "Incorrect: 0\n",
      "Accuracy: 100.00%\n"
     ]
    }
   ],
   "source": [
    "# Compute how well we performed for KNN\n",
    "correct3 = 0\n",
    "incorrect3 = 0\n",
    "total3 = 0\n",
    "for actual, predicted in zip(y_testing, predictions3):\n",
    "    total3 += 1\n",
    "    if actual == predicted:\n",
    "        correct3 += 1\n",
    "    else:\n",
    "        incorrect3 += 1\n",
    "\n",
    "# Print results\n",
    "print(f\"Results for model {type(model3).__name__}\")\n",
    "print(f\"Correct: {correct3}\")\n",
    "print(f\"Incorrect: {incorrect3}\")\n",
    "print(f\"Accuracy: {100 * correct3 / total3:.2f}%\")"
   ]
  },
  {
   "cell_type": "code",
   "execution_count": 10,
   "id": "6a80bbd3",
   "metadata": {},
   "outputs": [
    {
     "name": "stdout",
     "output_type": "stream",
     "text": [
      "Results for model GaussianNB\n",
      "Correct: 471\n",
      "Incorrect: 77\n",
      "Accuracy: 85.95%\n"
     ]
    }
   ],
   "source": [
    "# Compute how well we performed for naive bayes\n",
    "correct4 = 0\n",
    "incorrect4 = 0\n",
    "total4 = 0\n",
    "for actual, predicted in zip(y_testing, predictions4):\n",
    "    total4 += 1\n",
    "    if actual == predicted:\n",
    "        correct4 += 1\n",
    "    else:\n",
    "        incorrect4 += 1\n",
    "\n",
    "# Print results\n",
    "print(f\"Results for model {type(model4).__name__}\")\n",
    "print(f\"Correct: {correct4}\")\n",
    "print(f\"Incorrect: {incorrect4}\")\n",
    "print(f\"Accuracy: {100 * correct4 / total4:.2f}%\")"
   ]
  }
 ],
 "metadata": {
  "kernelspec": {
   "display_name": "Python 3",
   "language": "python",
   "name": "python3"
  },
  "language_info": {
   "codemirror_mode": {
    "name": "ipython",
    "version": 3
   },
   "file_extension": ".py",
   "mimetype": "text/x-python",
   "name": "python",
   "nbconvert_exporter": "python",
   "pygments_lexer": "ipython3",
   "version": "3.8.6"
  }
 },
 "nbformat": 4,
 "nbformat_minor": 5
}
