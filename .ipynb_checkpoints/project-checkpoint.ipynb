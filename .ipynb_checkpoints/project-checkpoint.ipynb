{
 "cells": [
  {
   "cell_type": "code",
   "execution_count": 1,
   "id": "c601c5d0",
   "metadata": {},
   "outputs": [],
   "source": [
    "# pip install scikit-learn\n",
    "import csv\n",
    "import random\n",
    "\n",
    "from sklearn import svm\n",
    "from sklearn.linear_model import Perceptron\n",
    "from sklearn.naive_bayes import GaussianNB\n",
    "from sklearn.neighbors import KNeighborsClassifier\n",
    "\n",
    "import pandas as pd\n",
    "import matplotlib.pyplot as plt\n",
    "import seaborn as sns\n",
    "\n",
    "from sklearn.metrics import confusion_matrix\n",
    "from sklearn.metrics import precision_score\n",
    "from sklearn.metrics import recall_score\n",
    "\n",
    "from sklearn.model_selection import train_test_split"
   ]
  },
  {
   "cell_type": "code",
   "execution_count": 2,
   "id": "077c275d",
   "metadata": {},
   "outputs": [],
   "source": [
    "data=pd.read_csv(\"banknotes.csv\")"
   ]
  },
  {
   "cell_type": "code",
   "execution_count": 3,
   "id": "b7ba447d",
   "metadata": {},
   "outputs": [
    {
     "data": {
      "text/html": [
       "<div>\n",
       "<style scoped>\n",
       "    .dataframe tbody tr th:only-of-type {\n",
       "        vertical-align: middle;\n",
       "    }\n",
       "\n",
       "    .dataframe tbody tr th {\n",
       "        vertical-align: top;\n",
       "    }\n",
       "\n",
       "    .dataframe thead th {\n",
       "        text-align: right;\n",
       "    }\n",
       "</style>\n",
       "<table border=\"1\" class=\"dataframe\">\n",
       "  <thead>\n",
       "    <tr style=\"text-align: right;\">\n",
       "      <th></th>\n",
       "      <th>variance</th>\n",
       "      <th>skewness</th>\n",
       "      <th>curtosis</th>\n",
       "      <th>entropy</th>\n",
       "      <th>class</th>\n",
       "    </tr>\n",
       "  </thead>\n",
       "  <tbody>\n",
       "    <tr>\n",
       "      <th>0</th>\n",
       "      <td>-0.89569</td>\n",
       "      <td>3.00250</td>\n",
       "      <td>-3.606700</td>\n",
       "      <td>-3.44570</td>\n",
       "      <td>1</td>\n",
       "    </tr>\n",
       "    <tr>\n",
       "      <th>1</th>\n",
       "      <td>3.47690</td>\n",
       "      <td>-0.15314</td>\n",
       "      <td>2.530000</td>\n",
       "      <td>2.44950</td>\n",
       "      <td>0</td>\n",
       "    </tr>\n",
       "    <tr>\n",
       "      <th>2</th>\n",
       "      <td>3.91020</td>\n",
       "      <td>6.06500</td>\n",
       "      <td>-2.453400</td>\n",
       "      <td>-0.68234</td>\n",
       "      <td>0</td>\n",
       "    </tr>\n",
       "    <tr>\n",
       "      <th>3</th>\n",
       "      <td>0.60731</td>\n",
       "      <td>3.95440</td>\n",
       "      <td>-4.772000</td>\n",
       "      <td>-4.48530</td>\n",
       "      <td>1</td>\n",
       "    </tr>\n",
       "    <tr>\n",
       "      <th>4</th>\n",
       "      <td>2.37180</td>\n",
       "      <td>7.49080</td>\n",
       "      <td>0.015989</td>\n",
       "      <td>-1.74140</td>\n",
       "      <td>0</td>\n",
       "    </tr>\n",
       "  </tbody>\n",
       "</table>\n",
       "</div>"
      ],
      "text/plain": [
       "   variance  skewness  curtosis  entropy  class\n",
       "0  -0.89569   3.00250 -3.606700 -3.44570      1\n",
       "1   3.47690  -0.15314  2.530000  2.44950      0\n",
       "2   3.91020   6.06500 -2.453400 -0.68234      0\n",
       "3   0.60731   3.95440 -4.772000 -4.48530      1\n",
       "4   2.37180   7.49080  0.015989 -1.74140      0"
      ]
     },
     "execution_count": 3,
     "metadata": {},
     "output_type": "execute_result"
    }
   ],
   "source": [
    "data.head()"
   ]
  },
  {
   "cell_type": "code",
   "execution_count": 4,
   "id": "9e75c192",
   "metadata": {},
   "outputs": [
    {
     "data": {
      "text/html": [
       "<div>\n",
       "<style scoped>\n",
       "    .dataframe tbody tr th:only-of-type {\n",
       "        vertical-align: middle;\n",
       "    }\n",
       "\n",
       "    .dataframe tbody tr th {\n",
       "        vertical-align: top;\n",
       "    }\n",
       "\n",
       "    .dataframe thead th {\n",
       "        text-align: right;\n",
       "    }\n",
       "</style>\n",
       "<table border=\"1\" class=\"dataframe\">\n",
       "  <thead>\n",
       "    <tr style=\"text-align: right;\">\n",
       "      <th></th>\n",
       "      <th>variance</th>\n",
       "      <th>skewness</th>\n",
       "      <th>curtosis</th>\n",
       "      <th>entropy</th>\n",
       "      <th>class</th>\n",
       "    </tr>\n",
       "  </thead>\n",
       "  <tbody>\n",
       "    <tr>\n",
       "      <th>count</th>\n",
       "      <td>1372.000000</td>\n",
       "      <td>1372.000000</td>\n",
       "      <td>1372.000000</td>\n",
       "      <td>1372.000000</td>\n",
       "      <td>1372.000000</td>\n",
       "    </tr>\n",
       "    <tr>\n",
       "      <th>mean</th>\n",
       "      <td>0.433735</td>\n",
       "      <td>1.922353</td>\n",
       "      <td>1.397627</td>\n",
       "      <td>-1.191657</td>\n",
       "      <td>0.444606</td>\n",
       "    </tr>\n",
       "    <tr>\n",
       "      <th>std</th>\n",
       "      <td>2.842763</td>\n",
       "      <td>5.869047</td>\n",
       "      <td>4.310030</td>\n",
       "      <td>2.101013</td>\n",
       "      <td>0.497103</td>\n",
       "    </tr>\n",
       "    <tr>\n",
       "      <th>min</th>\n",
       "      <td>-7.042100</td>\n",
       "      <td>-13.773100</td>\n",
       "      <td>-5.286100</td>\n",
       "      <td>-8.548200</td>\n",
       "      <td>0.000000</td>\n",
       "    </tr>\n",
       "    <tr>\n",
       "      <th>25%</th>\n",
       "      <td>-1.773000</td>\n",
       "      <td>-1.708200</td>\n",
       "      <td>-1.574975</td>\n",
       "      <td>-2.413450</td>\n",
       "      <td>0.000000</td>\n",
       "    </tr>\n",
       "    <tr>\n",
       "      <th>50%</th>\n",
       "      <td>0.496180</td>\n",
       "      <td>2.319650</td>\n",
       "      <td>0.616630</td>\n",
       "      <td>-0.586650</td>\n",
       "      <td>0.000000</td>\n",
       "    </tr>\n",
       "    <tr>\n",
       "      <th>75%</th>\n",
       "      <td>2.821475</td>\n",
       "      <td>6.814625</td>\n",
       "      <td>3.179250</td>\n",
       "      <td>0.394810</td>\n",
       "      <td>1.000000</td>\n",
       "    </tr>\n",
       "    <tr>\n",
       "      <th>max</th>\n",
       "      <td>6.824800</td>\n",
       "      <td>12.951600</td>\n",
       "      <td>17.927400</td>\n",
       "      <td>2.449500</td>\n",
       "      <td>1.000000</td>\n",
       "    </tr>\n",
       "  </tbody>\n",
       "</table>\n",
       "</div>"
      ],
      "text/plain": [
       "          variance     skewness     curtosis      entropy        class\n",
       "count  1372.000000  1372.000000  1372.000000  1372.000000  1372.000000\n",
       "mean      0.433735     1.922353     1.397627    -1.191657     0.444606\n",
       "std       2.842763     5.869047     4.310030     2.101013     0.497103\n",
       "min      -7.042100   -13.773100    -5.286100    -8.548200     0.000000\n",
       "25%      -1.773000    -1.708200    -1.574975    -2.413450     0.000000\n",
       "50%       0.496180     2.319650     0.616630    -0.586650     0.000000\n",
       "75%       2.821475     6.814625     3.179250     0.394810     1.000000\n",
       "max       6.824800    12.951600    17.927400     2.449500     1.000000"
      ]
     },
     "execution_count": 4,
     "metadata": {},
     "output_type": "execute_result"
    }
   ],
   "source": [
    "data.describe()"
   ]
  },
  {
   "cell_type": "code",
   "execution_count": 5,
   "id": "25034928",
   "metadata": {},
   "outputs": [
    {
     "name": "stdout",
     "output_type": "stream",
     "text": [
      "<class 'pandas.core.frame.DataFrame'>\n",
      "RangeIndex: 1372 entries, 0 to 1371\n",
      "Data columns (total 5 columns):\n",
      " #   Column    Non-Null Count  Dtype  \n",
      "---  ------    --------------  -----  \n",
      " 0   variance  1372 non-null   float64\n",
      " 1   skewness  1372 non-null   float64\n",
      " 2   curtosis  1372 non-null   float64\n",
      " 3   entropy   1372 non-null   float64\n",
      " 4   class     1372 non-null   int64  \n",
      "dtypes: float64(4), int64(1)\n",
      "memory usage: 53.7 KB\n"
     ]
    }
   ],
   "source": [
    "data.info()"
   ]
  },
  {
   "cell_type": "code",
   "execution_count": 6,
   "id": "de5c8692",
   "metadata": {
    "scrolled": true
   },
   "outputs": [
    {
     "data": {
      "text/html": [
       "<div>\n",
       "<style scoped>\n",
       "    .dataframe tbody tr th:only-of-type {\n",
       "        vertical-align: middle;\n",
       "    }\n",
       "\n",
       "    .dataframe tbody tr th {\n",
       "        vertical-align: top;\n",
       "    }\n",
       "\n",
       "    .dataframe thead th {\n",
       "        text-align: right;\n",
       "    }\n",
       "</style>\n",
       "<table border=\"1\" class=\"dataframe\">\n",
       "  <thead>\n",
       "    <tr style=\"text-align: right;\">\n",
       "      <th></th>\n",
       "      <th>variance</th>\n",
       "      <th>skewness</th>\n",
       "      <th>curtosis</th>\n",
       "      <th>entropy</th>\n",
       "      <th>class</th>\n",
       "    </tr>\n",
       "  </thead>\n",
       "  <tbody>\n",
       "    <tr>\n",
       "      <th>951</th>\n",
       "      <td>-1.83910</td>\n",
       "      <td>-9.08830</td>\n",
       "      <td>9.24160</td>\n",
       "      <td>-0.10432</td>\n",
       "      <td>1</td>\n",
       "    </tr>\n",
       "    <tr>\n",
       "      <th>77</th>\n",
       "      <td>-1.22440</td>\n",
       "      <td>1.74850</td>\n",
       "      <td>-1.48010</td>\n",
       "      <td>-1.41810</td>\n",
       "      <td>1</td>\n",
       "    </tr>\n",
       "    <tr>\n",
       "      <th>174</th>\n",
       "      <td>1.34030</td>\n",
       "      <td>4.13230</td>\n",
       "      <td>-4.70180</td>\n",
       "      <td>-2.59870</td>\n",
       "      <td>1</td>\n",
       "    </tr>\n",
       "    <tr>\n",
       "      <th>124</th>\n",
       "      <td>-0.88728</td>\n",
       "      <td>2.80800</td>\n",
       "      <td>-3.14320</td>\n",
       "      <td>-1.20350</td>\n",
       "      <td>1</td>\n",
       "    </tr>\n",
       "    <tr>\n",
       "      <th>694</th>\n",
       "      <td>5.27560</td>\n",
       "      <td>0.13863</td>\n",
       "      <td>0.12138</td>\n",
       "      <td>1.14350</td>\n",
       "      <td>0</td>\n",
       "    </tr>\n",
       "  </tbody>\n",
       "</table>\n",
       "</div>"
      ],
      "text/plain": [
       "     variance  skewness  curtosis  entropy  class\n",
       "951  -1.83910  -9.08830   9.24160 -0.10432      1\n",
       "77   -1.22440   1.74850  -1.48010 -1.41810      1\n",
       "174   1.34030   4.13230  -4.70180 -2.59870      1\n",
       "124  -0.88728   2.80800  -3.14320 -1.20350      1\n",
       "694   5.27560   0.13863   0.12138  1.14350      0"
      ]
     },
     "execution_count": 6,
     "metadata": {},
     "output_type": "execute_result"
    }
   ],
   "source": [
    "data.sample(5)"
   ]
  },
  {
   "cell_type": "code",
   "execution_count": 7,
   "id": "4250aab3",
   "metadata": {},
   "outputs": [
    {
     "data": {
      "text/plain": [
       "variance    0\n",
       "skewness    0\n",
       "curtosis    0\n",
       "entropy     0\n",
       "class       0\n",
       "dtype: int64"
      ]
     },
     "execution_count": 7,
     "metadata": {},
     "output_type": "execute_result"
    }
   ],
   "source": [
    "data.isnull().sum()"
   ]
  },
  {
   "cell_type": "code",
   "execution_count": 8,
   "id": "ea5fd186",
   "metadata": {},
   "outputs": [
    {
     "data": {
      "text/plain": [
       "0"
      ]
     },
     "execution_count": 8,
     "metadata": {},
     "output_type": "execute_result"
    }
   ],
   "source": [
    "data.isnull().sum().sum()"
   ]
  },
  {
   "cell_type": "code",
   "execution_count": 9,
   "id": "90b35c13",
   "metadata": {},
   "outputs": [],
   "source": [
    "# Model creation\n",
    "model1 = Perceptron()\n",
    "model2 = svm.SVC()\n",
    "model3 = KNeighborsClassifier(n_neighbors=1)\n",
    "model4 = GaussianNB()"
   ]
  },
  {
   "cell_type": "code",
   "execution_count": 10,
   "id": "9a217eae",
   "metadata": {},
   "outputs": [
    {
     "name": "stdout",
     "output_type": "stream",
     "text": [
      "Training features have 1029 records and Testing features have 343 records.\n"
     ]
    }
   ],
   "source": [
    "predictors = data.drop(\"class\",axis=1)\n",
    "target = data[\"class\"]\n",
    "\n",
    "X_training,X_testing,y_training,y_testing = train_test_split(predictors,target,test_size=0.25,random_state=None)\n",
    "print(\"Training features have {0} records and Testing features have {1} records.\".\\\n",
    "      format(X_training.shape[0], X_testing.shape[0]))"
   ]
  },
  {
   "cell_type": "code",
   "execution_count": 11,
   "id": "6d52f131",
   "metadata": {
    "scrolled": true
   },
   "outputs": [
    {
     "data": {
      "text/html": [
       "<div>\n",
       "<style scoped>\n",
       "    .dataframe tbody tr th:only-of-type {\n",
       "        vertical-align: middle;\n",
       "    }\n",
       "\n",
       "    .dataframe tbody tr th {\n",
       "        vertical-align: top;\n",
       "    }\n",
       "\n",
       "    .dataframe thead th {\n",
       "        text-align: right;\n",
       "    }\n",
       "</style>\n",
       "<table border=\"1\" class=\"dataframe\">\n",
       "  <thead>\n",
       "    <tr style=\"text-align: right;\">\n",
       "      <th></th>\n",
       "      <th>variance</th>\n",
       "      <th>skewness</th>\n",
       "      <th>curtosis</th>\n",
       "      <th>entropy</th>\n",
       "    </tr>\n",
       "  </thead>\n",
       "  <tbody>\n",
       "    <tr>\n",
       "      <th>332</th>\n",
       "      <td>-1.24240</td>\n",
       "      <td>-1.7175</td>\n",
       "      <td>-0.52553</td>\n",
       "      <td>-0.21036</td>\n",
       "    </tr>\n",
       "    <tr>\n",
       "      <th>532</th>\n",
       "      <td>3.30040</td>\n",
       "      <td>7.0811</td>\n",
       "      <td>-1.32580</td>\n",
       "      <td>0.22283</td>\n",
       "    </tr>\n",
       "    <tr>\n",
       "      <th>595</th>\n",
       "      <td>-3.99340</td>\n",
       "      <td>5.8333</td>\n",
       "      <td>0.54723</td>\n",
       "      <td>-4.93790</td>\n",
       "    </tr>\n",
       "    <tr>\n",
       "      <th>1301</th>\n",
       "      <td>-1.57320</td>\n",
       "      <td>1.0636</td>\n",
       "      <td>-0.71232</td>\n",
       "      <td>-0.83880</td>\n",
       "    </tr>\n",
       "    <tr>\n",
       "      <th>516</th>\n",
       "      <td>-0.55648</td>\n",
       "      <td>3.2136</td>\n",
       "      <td>-3.30850</td>\n",
       "      <td>-2.79650</td>\n",
       "    </tr>\n",
       "  </tbody>\n",
       "</table>\n",
       "</div>"
      ],
      "text/plain": [
       "      variance  skewness  curtosis  entropy\n",
       "332   -1.24240   -1.7175  -0.52553 -0.21036\n",
       "532    3.30040    7.0811  -1.32580  0.22283\n",
       "595   -3.99340    5.8333   0.54723 -4.93790\n",
       "1301  -1.57320    1.0636  -0.71232 -0.83880\n",
       "516   -0.55648    3.2136  -3.30850 -2.79650"
      ]
     },
     "execution_count": 11,
     "metadata": {},
     "output_type": "execute_result"
    }
   ],
   "source": [
    "X_training.head()"
   ]
  },
  {
   "cell_type": "code",
   "execution_count": 12,
   "id": "6235c9c4",
   "metadata": {},
   "outputs": [
    {
     "data": {
      "text/html": [
       "<div>\n",
       "<style scoped>\n",
       "    .dataframe tbody tr th:only-of-type {\n",
       "        vertical-align: middle;\n",
       "    }\n",
       "\n",
       "    .dataframe tbody tr th {\n",
       "        vertical-align: top;\n",
       "    }\n",
       "\n",
       "    .dataframe thead th {\n",
       "        text-align: right;\n",
       "    }\n",
       "</style>\n",
       "<table border=\"1\" class=\"dataframe\">\n",
       "  <thead>\n",
       "    <tr style=\"text-align: right;\">\n",
       "      <th></th>\n",
       "      <th>variance</th>\n",
       "      <th>skewness</th>\n",
       "      <th>curtosis</th>\n",
       "      <th>entropy</th>\n",
       "    </tr>\n",
       "  </thead>\n",
       "  <tbody>\n",
       "    <tr>\n",
       "      <th>544</th>\n",
       "      <td>-1.7599</td>\n",
       "      <td>11.92110</td>\n",
       "      <td>2.6756</td>\n",
       "      <td>-3.324100</td>\n",
       "    </tr>\n",
       "    <tr>\n",
       "      <th>176</th>\n",
       "      <td>4.0102</td>\n",
       "      <td>10.65680</td>\n",
       "      <td>-4.1388</td>\n",
       "      <td>-5.064600</td>\n",
       "    </tr>\n",
       "    <tr>\n",
       "      <th>626</th>\n",
       "      <td>4.1529</td>\n",
       "      <td>-3.93580</td>\n",
       "      <td>2.8633</td>\n",
       "      <td>-0.017686</td>\n",
       "    </tr>\n",
       "    <tr>\n",
       "      <th>93</th>\n",
       "      <td>-1.4781</td>\n",
       "      <td>0.14277</td>\n",
       "      <td>-1.1622</td>\n",
       "      <td>-0.485790</td>\n",
       "    </tr>\n",
       "    <tr>\n",
       "      <th>669</th>\n",
       "      <td>3.7831</td>\n",
       "      <td>10.05260</td>\n",
       "      <td>-3.8869</td>\n",
       "      <td>-3.736600</td>\n",
       "    </tr>\n",
       "  </tbody>\n",
       "</table>\n",
       "</div>"
      ],
      "text/plain": [
       "     variance  skewness  curtosis   entropy\n",
       "544   -1.7599  11.92110    2.6756 -3.324100\n",
       "176    4.0102  10.65680   -4.1388 -5.064600\n",
       "626    4.1529  -3.93580    2.8633 -0.017686\n",
       "93    -1.4781   0.14277   -1.1622 -0.485790\n",
       "669    3.7831  10.05260   -3.8869 -3.736600"
      ]
     },
     "execution_count": 12,
     "metadata": {},
     "output_type": "execute_result"
    }
   ],
   "source": [
    "X_testing.head()"
   ]
  },
  {
   "cell_type": "code",
   "execution_count": 13,
   "id": "db705ff7",
   "metadata": {},
   "outputs": [
    {
     "data": {
      "text/plain": [
       "332     1\n",
       "532     0\n",
       "595     1\n",
       "1301    1\n",
       "516     1\n",
       "Name: class, dtype: int64"
      ]
     },
     "execution_count": 13,
     "metadata": {},
     "output_type": "execute_result"
    }
   ],
   "source": [
    "y_training.head()"
   ]
  },
  {
   "cell_type": "code",
   "execution_count": 14,
   "id": "7d0c86d0",
   "metadata": {},
   "outputs": [
    {
     "data": {
      "text/plain": [
       "544    0\n",
       "176    0\n",
       "626    0\n",
       "93     1\n",
       "669    0\n",
       "Name: class, dtype: int64"
      ]
     },
     "execution_count": 14,
     "metadata": {},
     "output_type": "execute_result"
    }
   ],
   "source": [
    "y_testing.head()"
   ]
  },
  {
   "cell_type": "code",
   "execution_count": 15,
   "id": "f761a650",
   "metadata": {},
   "outputs": [
    {
     "data": {
      "text/plain": [
       "GaussianNB()"
      ]
     },
     "execution_count": 15,
     "metadata": {},
     "output_type": "execute_result"
    }
   ],
   "source": [
    "# Train model on training set\n",
    "model1.fit(X_training, y_training)\n",
    "model2.fit(X_training, y_training)\n",
    "model3.fit(X_training, y_training)\n",
    "model4.fit(X_training, y_training)"
   ]
  },
  {
   "cell_type": "code",
   "execution_count": 16,
   "id": "b9374a48",
   "metadata": {},
   "outputs": [],
   "source": [
    "# Make predictions on the testing set\n",
    "predictions1 = model1.predict(X_testing)\n",
    "predictions2 = model2.predict(X_testing)\n",
    "predictions3 = model3.predict(X_testing)\n",
    "predictions4 = model4.predict(X_testing)"
   ]
  },
  {
   "cell_type": "code",
   "execution_count": 17,
   "id": "9bcd7068",
   "metadata": {},
   "outputs": [
    {
     "name": "stdout",
     "output_type": "stream",
     "text": [
      "Results for model Perceptron\n",
      "Correct: 333\n",
      "Incorrect: 10\n",
      "Accuracy:97.08%\n"
     ]
    }
   ],
   "source": [
    "# Compute how well we performed for perceptron\n",
    "correct1 = 0\n",
    "incorrect1 = 0\n",
    "total1 = 0\n",
    "for actual, predicted in zip(y_testing, predictions1):\n",
    "    total1 += 1\n",
    "    if actual == predicted:\n",
    "        correct1 += 1\n",
    "    else:\n",
    "        incorrect1 += 1\n",
    "score1 = 100 * (correct1 / total1)\n",
    "# Print results\n",
    "print(f\"Results for model {type(model1).__name__}\")\n",
    "print(f\"Correct: {correct1}\")\n",
    "print(f\"Incorrect: {incorrect1}\")\n",
    "print(f\"Accuracy:{100 * correct1 / total1:.2f}%\")"
   ]
  },
  {
   "cell_type": "code",
   "execution_count": 18,
   "id": "dab41d86",
   "metadata": {
    "scrolled": true
   },
   "outputs": [
    {
     "data": {
      "image/png": "[encoded data removed]",
      "text/plain": [
       "<Figure size 432x288 with 2 Axes>"
      ]
     },
     "metadata": {
      "needs_background": "light"
     },
     "output_type": "display_data"
    }
   ],
   "source": [
    "matrix= confusion_matrix(y_testing, predictions1)\n",
    "plt.subplots(figsize=(6,4))\n",
    "sns.heatmap(matrix,annot = True, fmt = \"d\")\n",
    "plt.show()"
   ]
  },
  {
   "cell_type": "code",
   "execution_count": 19,
   "id": "790a5496",
   "metadata": {},
   "outputs": [
    {
     "name": "stdout",
     "output_type": "stream",
     "text": [
      "Precision:  0.9387755102040817\n"
     ]
    }
   ],
   "source": [
    "precision1 = precision_score(y_testing, predictions1)\n",
    "print(\"Precision: \",precision1)"
   ]
  },
  {
   "cell_type": "code",
   "execution_count": 20,
   "id": "c86677f4",
   "metadata": {},
   "outputs": [
    {
     "name": "stdout",
     "output_type": "stream",
     "text": [
      "Recall is:  0.9928057553956835\n"
     ]
    }
   ],
   "source": [
    "recall1 = recall_score(y_testing, predictions1)\n",
    "print(\"Recall is: \",recall1)"
   ]
  },
  {
   "cell_type": "code",
   "execution_count": 21,
   "id": "4eefab53",
   "metadata": {},
   "outputs": [
    {
     "name": "stdout",
     "output_type": "stream",
     "text": [
      "0.965034965034965\n"
     ]
    }
   ],
   "source": [
    "fs1=(2*precision1*recall1)/(precision1+recall1)\n",
    "print(fs1)"
   ]
  },
  {
   "cell_type": "code",
   "execution_count": 22,
   "id": "ee88fdfe",
   "metadata": {},
   "outputs": [
    {
     "name": "stdout",
     "output_type": "stream",
     "text": [
      "Results for model SVC\n",
      "Correct: 342\n",
      "Incorrect: 1\n",
      "Accuracy: 99.71%\n"
     ]
    }
   ],
   "source": [
    "# Compute how well we performed for SVM\n",
    "correct2 = 0\n",
    "incorrect2 = 0\n",
    "total2 = 0\n",
    "for actual, predicted in zip(y_testing, predictions2):\n",
    "    total2 += 1\n",
    "    if actual == predicted:\n",
    "        correct2 += 1\n",
    "    else:\n",
    "        incorrect2 += 1\n",
    "score2=100 * (correct2 / total2)\n",
    "# Print results\n",
    "print(f\"Results for model {type(model2).__name__}\")\n",
    "print(f\"Correct: {correct2}\")\n",
    "print(f\"Incorrect: {incorrect2}\")\n",
    "print(f\"Accuracy: {100 * correct2 / total2:.2f}%\")"
   ]
  },
  {
   "cell_type": "code",
   "execution_count": 23,
   "id": "24c6e102",
   "metadata": {
    "scrolled": true
   },
   "outputs": [
    {
     "data": {
      "image/png": "[encoded data removed]",
      "text/plain": [
       "<Figure size 432x288 with 2 Axes>"
      ]
     },
     "metadata": {
      "needs_background": "light"
     },
     "output_type": "display_data"
    }
   ],
   "source": [
    "matrix= confusion_matrix(y_testing, predictions2)\n",
    "plt.subplots(figsize=(6,4))\n",
    "sns.heatmap(matrix,annot = True, fmt = \"d\")\n",
    "plt.show()"
   ]
  },
  {
   "cell_type": "code",
   "execution_count": 24,
   "id": "c34f6974",
   "metadata": {
    "scrolled": true
   },
   "outputs": [
    {
     "name": "stdout",
     "output_type": "stream",
     "text": [
      "Precision:  0.9928571428571429\n"
     ]
    }
   ],
   "source": [
    "precision2 = precision_score(y_testing, predictions2)\n",
    "print(\"Precision: \",precision2)"
   ]
  },
  {
   "cell_type": "code",
   "execution_count": 25,
   "id": "45d4bc32",
   "metadata": {
    "scrolled": true
   },
   "outputs": [
    {
     "name": "stdout",
     "output_type": "stream",
     "text": [
      "Recall is:  1.0\n"
     ]
    }
   ],
   "source": [
    "recall2 = recall_score(y_testing, predictions2)\n",
    "print(\"Recall is: \",recall2)"
   ]
  },
  {
   "cell_type": "code",
   "execution_count": 26,
   "id": "c5947bef",
   "metadata": {},
   "outputs": [
    {
     "name": "stdout",
     "output_type": "stream",
     "text": [
      "0.996415770609319\n"
     ]
    }
   ],
   "source": [
    "fs2=(2*precision2*recall2)/(precision2+recall2)\n",
    "print(fs2)"
   ]
  },
  {
   "cell_type": "code",
   "execution_count": 27,
   "id": "cfb59ae7",
   "metadata": {},
   "outputs": [
    {
     "name": "stdout",
     "output_type": "stream",
     "text": [
      "Results for model KNeighborsClassifier\n",
      "Correct: 343\n",
      "Incorrect: 0\n",
      "Accuracy: 100.00%\n"
     ]
    }
   ],
   "source": [
    "# Compute how well we performed for KNN\n",
    "correct3 = 0\n",
    "incorrect3 = 0\n",
    "total3 = 0\n",
    "for actual, predicted in zip(y_testing, predictions3):\n",
    "    total3 += 1\n",
    "    if actual == predicted:\n",
    "        correct3 += 1\n",
    "    else:\n",
    "        incorrect3 += 1\n",
    "score3=100 * (correct3 / total3)\n",
    "# Print results\n",
    "print(f\"Results for model {type(model3).__name__}\")\n",
    "print(f\"Correct: {correct3}\")\n",
    "print(f\"Incorrect: {incorrect3}\")\n",
    "print(f\"Accuracy: {100 * correct3 / total3:.2f}%\")"
   ]
  },
  {
   "cell_type": "code",
   "execution_count": 28,
   "id": "9db62514",
   "metadata": {},
   "outputs": [
    {
     "data": {
      "image/png": "[encoded data removed]",
      "text/plain": [
       "<Figure size 432x288 with 2 Axes>"
      ]
     },
     "metadata": {
      "needs_background": "light"
     },
     "output_type": "display_data"
    }
   ],
   "source": [
    "matrix= confusion_matrix(y_testing, predictions3)\n",
    "plt.subplots(figsize=(6,4))\n",
    "sns.heatmap(matrix,annot = True, fmt = \"d\")\n",
    "plt.show()"
   ]
  },
  {
   "cell_type": "code",
   "execution_count": 29,
   "id": "b893a279",
   "metadata": {},
   "outputs": [
    {
     "name": "stdout",
     "output_type": "stream",
     "text": [
      "Precision:  1.0\n"
     ]
    }
   ],
   "source": [
    "precision3 = precision_score(y_testing, predictions3)\n",
    "print(\"Precision: \",precision3)"
   ]
  },
  {
   "cell_type": "code",
   "execution_count": 30,
   "id": "ccae9313",
   "metadata": {},
   "outputs": [
    {
     "name": "stdout",
     "output_type": "stream",
     "text": [
      "Recall is:  1.0\n"
     ]
    }
   ],
   "source": [
    "recall3 = recall_score(y_testing, predictions3)\n",
    "print(\"Recall is: \",recall3)"
   ]
  },
  {
   "cell_type": "code",
   "execution_count": 31,
   "id": "04fc00e1",
   "metadata": {},
   "outputs": [
    {
     "name": "stdout",
     "output_type": "stream",
     "text": [
      "1.0\n"
     ]
    }
   ],
   "source": [
    "fs3=(2*precision3*recall3)/(precision3+recall3)\n",
    "print(fs3)"
   ]
  },
  {
   "cell_type": "code",
   "execution_count": 32,
   "id": "6a80bbd3",
   "metadata": {},
   "outputs": [
    {
     "name": "stdout",
     "output_type": "stream",
     "text": [
      "Results for model GaussianNB\n",
      "Correct: 292\n",
      "Incorrect: 51\n",
      "Accuracy: 85.13%\n"
     ]
    }
   ],
   "source": [
    "# Compute how well we performed for naive bayes\n",
    "correct4 = 0\n",
    "incorrect4 = 0\n",
    "total4 = 0\n",
    "for actual, predicted in zip(y_testing, predictions4):\n",
    "    total4 += 1\n",
    "    if actual == predicted:\n",
    "        correct4 += 1\n",
    "    else:\n",
    "        incorrect4 += 1\n",
    "score4=100 * (correct4 / total4)\n",
    "# Print results\n",
    "print(f\"Results for model {type(model4).__name__}\")\n",
    "print(f\"Correct: {correct4}\")\n",
    "print(f\"Incorrect: {incorrect4}\")\n",
    "print(f\"Accuracy: {100 * correct4 / total4:.2f}%\")"
   ]
  },
  {
   "cell_type": "code",
   "execution_count": 33,
   "id": "181d5625",
   "metadata": {
    "scrolled": true
   },
   "outputs": [
    {
     "data": {
      "image/png": "[encoded data removed]",
      "text/plain": [
       "<Figure size 432x288 with 2 Axes>"
      ]
     },
     "metadata": {
      "needs_background": "light"
     },
     "output_type": "display_data"
    }
   ],
   "source": [
    "matrix= confusion_matrix(y_testing, predictions4)\n",
    "plt.subplots(figsize=(6,4))\n",
    "sns.heatmap(matrix,annot = True, fmt = \"d\")\n",
    "plt.show()"
   ]
  },
  {
   "cell_type": "code",
   "execution_count": 34,
   "id": "49cbf4be",
   "metadata": {
    "scrolled": true
   },
   "outputs": [
    {
     "name": "stdout",
     "output_type": "stream",
     "text": [
      "Precision:  0.8098591549295775\n"
     ]
    }
   ],
   "source": [
    "precision4 = precision_score(y_testing, predictions4)\n",
    "print(\"Precision: \",precision4)"
   ]
  },
  {
   "cell_type": "code",
   "execution_count": 35,
   "id": "9466d995",
   "metadata": {},
   "outputs": [
    {
     "name": "stdout",
     "output_type": "stream",
     "text": [
      "Recall is:  0.8273381294964028\n"
     ]
    }
   ],
   "source": [
    "recall4 = recall_score(y_testing, predictions4)\n",
    "print(\"Recall is: \",recall4)"
   ]
  },
  {
   "cell_type": "code",
   "execution_count": 36,
   "id": "16c95ee9",
   "metadata": {},
   "outputs": [
    {
     "name": "stdout",
     "output_type": "stream",
     "text": [
      "0.8185053380782918\n"
     ]
    }
   ],
   "source": [
    "fs4=(2*precision4*recall4)/(precision4+recall4)\n",
    "print(fs4)"
   ]
  },
  {
   "cell_type": "code",
   "execution_count": 37,
   "id": "c73a94c3",
   "metadata": {},
   "outputs": [],
   "source": [
    "accuracy = [score1,score2,score3,score4]\n",
    "classifiers = ['Perceptron', 'Support Vector Machine', \"K Nearest Neighbours\", \"Gaussian Naive Bayes\"]"
   ]
  },
  {
   "cell_type": "code",
   "execution_count": 38,
   "id": "8118dc1c",
   "metadata": {},
   "outputs": [
    {
     "data": {
      "text/html": [
       "<div>\n",
       "<style scoped>\n",
       "    .dataframe tbody tr th:only-of-type {\n",
       "        vertical-align: middle;\n",
       "    }\n",
       "\n",
       "    .dataframe tbody tr th {\n",
       "        vertical-align: top;\n",
       "    }\n",
       "\n",
       "    .dataframe thead th {\n",
       "        text-align: right;\n",
       "    }\n",
       "</style>\n",
       "<table border=\"1\" class=\"dataframe\">\n",
       "  <thead>\n",
       "    <tr style=\"text-align: right;\">\n",
       "      <th></th>\n",
       "      <th>accuracy</th>\n",
       "    </tr>\n",
       "  </thead>\n",
       "  <tbody>\n",
       "    <tr>\n",
       "      <th>Perceptron</th>\n",
       "      <td>97.084548</td>\n",
       "    </tr>\n",
       "    <tr>\n",
       "      <th>Support Vector Machine</th>\n",
       "      <td>99.708455</td>\n",
       "    </tr>\n",
       "    <tr>\n",
       "      <th>K Nearest Neighbours</th>\n",
       "      <td>100.000000</td>\n",
       "    </tr>\n",
       "    <tr>\n",
       "      <th>Gaussian Naive Bayes</th>\n",
       "      <td>85.131195</td>\n",
       "    </tr>\n",
       "  </tbody>\n",
       "</table>\n",
       "</div>"
      ],
      "text/plain": [
       "                          accuracy\n",
       "Perceptron               97.084548\n",
       "Support Vector Machine   99.708455\n",
       "K Nearest Neighbours    100.000000\n",
       "Gaussian Naive Bayes     85.131195"
      ]
     },
     "execution_count": 38,
     "metadata": {},
     "output_type": "execute_result"
    }
   ],
   "source": [
    "summary = pd.DataFrame({'accuracy':accuracy}, index=classifiers)  # create a dataframe from accuracy results\n",
    "summary"
   ]
  },
  {
   "cell_type": "code",
   "execution_count": 39,
   "id": "fbc3aa85",
   "metadata": {},
   "outputs": [
    {
     "data": {
      "text/plain": [
       "<AxesSubplot:xlabel='Algorithms', ylabel='Accuracy score'>"
      ]
     },
     "execution_count": 39,
     "metadata": {},
     "output_type": "execute_result"
    },
    {
     "data": {
      "image/png": "[encoded data removed]",
      "text/plain": [
       "<Figure size 720x720 with 1 Axes>"
      ]
     },
     "metadata": {},
     "output_type": "display_data"
    }
   ],
   "source": [
    "sns.set(rc={'figure.figsize':(10,10)})\n",
    "plt.xlabel(\"Algorithms\")\n",
    "plt.ylabel(\"Accuracy score\")\n",
    "\n",
    "sns.barplot(classifiers,accuracy)"
   ]
  },
  {
   "cell_type": "code",
   "execution_count": 40,
   "id": "cdc9fb91",
   "metadata": {},
   "outputs": [],
   "source": [
    "fs_scores=[fs1,fs2,fs3,fs4]"
   ]
  },
  {
   "cell_type": "code",
   "execution_count": 41,
   "id": "a0f12b51",
   "metadata": {},
   "outputs": [
    {
     "data": {
      "text/html": [
       "<div>\n",
       "<style scoped>\n",
       "    .dataframe tbody tr th:only-of-type {\n",
       "        vertical-align: middle;\n",
       "    }\n",
       "\n",
       "    .dataframe tbody tr th {\n",
       "        vertical-align: top;\n",
       "    }\n",
       "\n",
       "    .dataframe thead th {\n",
       "        text-align: right;\n",
       "    }\n",
       "</style>\n",
       "<table border=\"1\" class=\"dataframe\">\n",
       "  <thead>\n",
       "    <tr style=\"text-align: right;\">\n",
       "      <th></th>\n",
       "      <th>f_scores</th>\n",
       "    </tr>\n",
       "  </thead>\n",
       "  <tbody>\n",
       "    <tr>\n",
       "      <th>Perceptron</th>\n",
       "      <td>0.965035</td>\n",
       "    </tr>\n",
       "    <tr>\n",
       "      <th>Support Vector Machine</th>\n",
       "      <td>0.996416</td>\n",
       "    </tr>\n",
       "    <tr>\n",
       "      <th>K Nearest Neighbours</th>\n",
       "      <td>1.000000</td>\n",
       "    </tr>\n",
       "    <tr>\n",
       "      <th>Gaussian Naive Bayes</th>\n",
       "      <td>0.818505</td>\n",
       "    </tr>\n",
       "  </tbody>\n",
       "</table>\n",
       "</div>"
      ],
      "text/plain": [
       "                        f_scores\n",
       "Perceptron              0.965035\n",
       "Support Vector Machine  0.996416\n",
       "K Nearest Neighbours    1.000000\n",
       "Gaussian Naive Bayes    0.818505"
      ]
     },
     "execution_count": 41,
     "metadata": {},
     "output_type": "execute_result"
    }
   ],
   "source": [
    "fs_summary = pd.DataFrame({'f_scores':fs_scores}, index=classifiers)  # create a dataframe from accuracy results\n",
    "fs_summary"
   ]
  },
  {
   "cell_type": "code",
   "execution_count": 42,
   "id": "08a121d8",
   "metadata": {},
   "outputs": [
    {
     "data": {
      "text/plain": [
       "<AxesSubplot:xlabel='Algorithms', ylabel='F score'>"
      ]
     },
     "execution_count": 42,
     "metadata": {},
     "output_type": "execute_result"
    },
    {
     "data": {
      "image/png": "[encoded data removed]",
      "text/plain": [
       "<Figure size 720x720 with 1 Axes>"
      ]
     },
     "metadata": {},
     "output_type": "display_data"
    }
   ],
   "source": [
    "sns.set(rc={'figure.figsize':(10,10)})\n",
    "plt.xlabel(\"Algorithms\")\n",
    "plt.ylabel(\"F score\")\n",
    "\n",
    "sns.barplot(classifiers,fs_scores)"
   ]
  },
  {
   "cell_type": "code",
   "execution_count": 43,
   "id": "4a146d66",
   "metadata": {},
   "outputs": [
    {
     "name": "stdout",
     "output_type": "stream",
     "text": [
      "For note 1 the predicted value of target is:  1\n",
      "For note 2 the predicted value of target is:  1\n"
     ]
    }
   ],
   "source": [
    "note1=[[0.55298,-3.4619,1.7048,1.1000]]\n",
    "note2=[[-1.1306,1.8458,-1.3575,-1.3806]]\n",
    "\n",
    "result1 = model3.predict(note1)\n",
    "result2 = model3.predict(note2)\n",
    "\n",
    "print(\"For note 1 the predicted value of target is: \",result1[0])\n",
    "print(\"For note 2 the predicted value of target is: \",result2[0])"
   ]
  }
 ],
 "metadata": {
  "kernelspec": {
   "display_name": "Python 3",
   "language": "python",
   "name": "python3"
  },
  "language_info": {
   "codemirror_mode": {
    "name": "ipython",
    "version": 3
   },
   "file_extension": ".py",
   "mimetype": "text/x-python",
   "name": "python",
   "nbconvert_exporter": "python",
   "pygments_lexer": "ipython3",
   "version": "3.8.6"
  }
 },
 "nbformat": 4,
 "nbformat_minor": 5
}
